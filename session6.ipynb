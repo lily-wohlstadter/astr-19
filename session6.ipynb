{
 "cells": [
  {
   "cell_type": "code",
   "execution_count": 8,
   "id": "cdb932a0-fbd0-4390-87eb-88c8195b9d88",
   "metadata": {},
   "outputs": [],
   "source": [
    "import numpy as np \n",
    "def compute_sin(x):\n",
    "    return np.sin(x)"
   ]
  },
  {
   "cell_type": "markdown",
   "id": "8c9b2f7b-e54f-44dd-a837-1e3370cf370d",
   "metadata": {},
   "source": [
    "defining the function sin(x)"
   ]
  },
  {
   "cell_type": "code",
   "execution_count": 9,
   "id": "37d19e3a-9583-4c41-82a7-5ed8868d6670",
   "metadata": {},
   "outputs": [],
   "source": [
    "import numpy as np\n",
    "def compute_cos(x):\n",
    "    return np.cos(x)"
   ]
  },
  {
   "cell_type": "markdown",
   "id": "93c4ef96-3ff0-4c95-8c2a-95d03b24083f",
   "metadata": {},
   "source": [
    "defining the function cos(x)"
   ]
  },
  {
   "cell_type": "code",
   "execution_count": 10,
   "id": "246e0f30-3e5e-4174-8efc-7669df918922",
   "metadata": {},
   "outputs": [],
   "source": [
    "import numpy as np\n",
    "x_values = np.linspace(0, 2*np.pi, num=1000)\n",
    "sin_values = compute_sin(x_values)\n",
    "cos_values = compute_cos(x_values)"
   ]
  },
  {
   "cell_type": "markdown",
   "id": "f905e25d-d7b0-41b5-b00e-e86d48589ca4",
   "metadata": {},
   "source": [
    "tabulating sin(x) and cos(x) vs x where x is between 0 and 2*pi with 1000 entries"
   ]
  },
  {
   "cell_type": "code",
   "execution_count": 11,
   "id": "d7c4e24f-49a5-46c9-9193-a0bb99ddb5a3",
   "metadata": {},
   "outputs": [
    {
     "name": "stdout",
     "output_type": "stream",
     "text": [
      "x\t\tsin(x)\t\tcos(x)\n",
      "0.0\t0.0\t1.0\n",
      "0.006289474781961547\t0.006289433316067751\t0.9999802213186832\n",
      "0.012578949563923095\t0.012578617838741058\t0.9999208860571255\n",
      "0.018868424345884642\t0.01886730478446709\t0.9998219965624732\n",
      "0.02515789912784619\t0.025155245389375847\t0.9996835567465339\n",
      "0.03144737390980774\t0.0314421909191206\t0.9995055720856215\n",
      "0.037736848691769284\t0.03772789267871718\t0.99928804962034\n",
      "0.04402632347373083\t0.04401210202238166\t0.9990309979553044\n",
      "0.05031579825569238\t0.05029457036336618\t0.9987344272588006\n",
      "0.056605273037653926\t0.056575049183792345\t0.9983983492623831\n"
     ]
    }
   ],
   "source": [
    "print(\"x\\t\\tsin(x)\\t\\tcos(x)\")\n",
    "for i in range(10):\n",
    "    print(f\"{x_values[i]}\\t{sin_values[i]}\\t{cos_values[i]}\")"
   ]
  },
  {
   "cell_type": "raw",
   "id": "5435cbef-7b95-46d4-bc1d-c8d4ba8b93b1",
   "metadata": {},
   "source": [
    "printing the results"
   ]
  }
 ],
 "metadata": {
  "kernelspec": {
   "display_name": "Python 3 (ipykernel)",
   "language": "python",
   "name": "python3"
  },
  "language_info": {
   "codemirror_mode": {
    "name": "ipython",
    "version": 3
   },
   "file_extension": ".py",
   "mimetype": "text/x-python",
   "name": "python",
   "nbconvert_exporter": "python",
   "pygments_lexer": "ipython3",
   "version": "3.11.5"
  }
 },
 "nbformat": 4,
 "nbformat_minor": 5
}
